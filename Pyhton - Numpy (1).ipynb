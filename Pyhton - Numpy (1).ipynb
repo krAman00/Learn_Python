{
 "cells": [
  {
   "cell_type": "code",
   "execution_count": 7,
   "id": "add8ebd5",
   "metadata": {},
   "outputs": [],
   "source": [
    "# Numpy = Numerical Python\n",
    "# Defination = It is a Fundamental Package of Scientific computing in Python\n",
    "# Array = An Array is Defines as collection of items that are stored at contiguous Memory Location\n",
    "# Array's are not comma seperated"
   ]
  },
  {
   "cell_type": "code",
   "execution_count": 2,
   "id": "f5ae9c4f",
   "metadata": {},
   "outputs": [],
   "source": [
    "import numpy as np "
   ]
  },
  {
   "cell_type": "code",
   "execution_count": 5,
   "id": "617fede3",
   "metadata": {},
   "outputs": [
    {
     "name": "stdout",
     "output_type": "stream",
     "text": [
      "[10, 20, 30, 20, 40, 60]\n"
     ]
    }
   ],
   "source": [
    "a1 = [10,20,30]\n",
    "a2 = [20,40,60]\n",
    "print(a1+a2)"
   ]
  },
  {
   "cell_type": "code",
   "execution_count": 8,
   "id": "2d2824be",
   "metadata": {},
   "outputs": [
    {
     "name": "stdout",
     "output_type": "stream",
     "text": [
      "[10 20 30]\n"
     ]
    }
   ],
   "source": [
    "x = np.array([10,20,30])\n",
    "y = np.array([20,40,60])\n",
    "print(x)"
   ]
  },
  {
   "cell_type": "code",
   "execution_count": 23,
   "id": "b4cfc9ba",
   "metadata": {},
   "outputs": [
    {
     "name": "stdout",
     "output_type": "stream",
     "text": [
      "[10 20 30 40 50]\n",
      "[40 50]\n"
     ]
    }
   ],
   "source": [
    "ab = np.array([10,20,30,40,50])\n",
    "print(ab)\n",
    "print(ab[3:])"
   ]
  },
  {
   "cell_type": "code",
   "execution_count": 24,
   "id": "6b4a82ae",
   "metadata": {},
   "outputs": [],
   "source": [
    "# # Functions in Nympy\n",
    "# a.shape - Array Dimensions\n",
    "# len(a) - Length of Array\n",
    "# a.ndim -  number of array elements\n",
    "# a.size = Number of array elements\n",
    "# a.dtype = Data type of array elements\n",
    "# a.astype() = Convert on array to a different type \n"
   ]
  },
  {
   "cell_type": "code",
   "execution_count": 31,
   "id": "b92e9cd6",
   "metadata": {},
   "outputs": [
    {
     "name": "stdout",
     "output_type": "stream",
     "text": [
      "[10 20 30 40 50]\n",
      "(5,)\n",
      "5\n",
      "1\n",
      "5\n",
      "int32\n",
      "[10. 20. 30. 40. 50.]\n"
     ]
    }
   ],
   "source": [
    "a = [10,20,30,40,50]\n",
    "arr = np.array(a)\n",
    "print(arr)\n",
    "print(arr.shape)\n",
    "print(len(arr))\n",
    "print(arr.ndim)\n",
    "print(arr.size)\n",
    "print(arr.dtype)\n",
    "print(arr.astype(float))"
   ]
  },
  {
   "cell_type": "code",
   "execution_count": 39,
   "id": "781495b9",
   "metadata": {},
   "outputs": [
    {
     "name": "stdout",
     "output_type": "stream",
     "text": [
      "[[10 20 30]\n",
      " [40 50 60]]\n",
      "(2, 3)\n",
      "2\n",
      "int32\n",
      "2\n",
      "6\n"
     ]
    }
   ],
   "source": [
    "b = [[10,20,30],[40,50,60]]\n",
    "ar = np.array(b)\n",
    "print(ar)\n",
    "print(ar.shape) # rows & columns\n",
    "print(len(ar))\n",
    "print(ar.dtype)\n",
    "print(ar.ndim)\n",
    "print(ar.size) # total size of element\n"
   ]
  },
  {
   "cell_type": "code",
   "execution_count": 40,
   "id": "6edad73c",
   "metadata": {},
   "outputs": [],
   "source": [
    "# # # Mathematical operations and Funcations in Arrays\n",
    "# # np.subtract(x,y)\n",
    "# # np.add(x,y)\n",
    "# # np.divide(x,y)\n",
    "# np.multiply(x,y)\n",
    "# np.exp(x)\n",
    "# np.sqrt(x)\n",
    "# np.pow(x)"
   ]
  },
  {
   "cell_type": "code",
   "execution_count": 48,
   "id": "c153168d",
   "metadata": {},
   "outputs": [
    {
     "name": "stdout",
     "output_type": "stream",
     "text": [
      "[10 20 30]\n",
      "[20 40 60]\n",
      "[30 60 90]\n",
      "[-10 -20 -30]\n",
      "[ 200  800 1800]\n",
      "[0.5 0.5 0.5]\n"
     ]
    }
   ],
   "source": [
    "print(x)\n",
    "print(y)\n",
    "print(np.add(x,y))\n",
    "print(np.subtract(x,y))\n",
    "print(np.multiply(x,y))\n",
    "print(np.divide(x,y))\n",
    "print(np.pow())"
   ]
  },
  {
   "cell_type": "code",
   "execution_count": 53,
   "id": "8b296d75",
   "metadata": {},
   "outputs": [
    {
     "name": "stdout",
     "output_type": "stream",
     "text": [
      "[10 20 30]\n",
      "[20 40 60]\n",
      "[10 20 30 20 40 60]\n"
     ]
    }
   ],
   "source": [
    "print(x)\n",
    "print(y)\n",
    "print(np.concatenate([x,y], axis = 0))"
   ]
  },
  {
   "cell_type": "code",
   "execution_count": 54,
   "id": "0dcb15fe",
   "metadata": {},
   "outputs": [
    {
     "name": "stdout",
     "output_type": "stream",
     "text": [
      "[[1 2 3]\n",
      " [5 6 7]]\n",
      "[[10 20 30]\n",
      " [90 80 70]]\n"
     ]
    }
   ],
   "source": [
    "x1 = np.array([[1,2,3], [5,6,7]])\n",
    "y1 = np.array([[10,20,30], [90,80,70]])\n",
    "print(x1)\n",
    "print(y1)"
   ]
  },
  {
   "cell_type": "code",
   "execution_count": 56,
   "id": "9e236486",
   "metadata": {},
   "outputs": [
    {
     "name": "stdout",
     "output_type": "stream",
     "text": [
      "[[ 1  2  3]\n",
      " [ 5  6  7]\n",
      " [10 20 30]\n",
      " [90 80 70]]\n"
     ]
    }
   ],
   "source": [
    "print(np.concatenate([x1,y1],axis = 0))"
   ]
  },
  {
   "cell_type": "code",
   "execution_count": 59,
   "id": "2a523460",
   "metadata": {},
   "outputs": [
    {
     "name": "stdout",
     "output_type": "stream",
     "text": [
      "[[ 1  2  3 10 20 30]\n",
      " [ 5  6  7 90 80 70]]\n"
     ]
    }
   ],
   "source": [
    "print(np.concatenate([x1,y1],axis = 1))"
   ]
  },
  {
   "cell_type": "code",
   "execution_count": 57,
   "id": "2de8e73c",
   "metadata": {},
   "outputs": [
    {
     "name": "stdout",
     "output_type": "stream",
     "text": [
      "[[ 1  2  3 10 20 30]\n",
      " [ 5  6  7 90 80 70]]\n"
     ]
    }
   ],
   "source": [
    "print(np.hstack([x1,y1]))"
   ]
  },
  {
   "cell_type": "code",
   "execution_count": 58,
   "id": "6f3b08ef",
   "metadata": {},
   "outputs": [
    {
     "name": "stdout",
     "output_type": "stream",
     "text": [
      "[[ 1  2  3]\n",
      " [ 5  6  7]\n",
      " [10 20 30]\n",
      " [90 80 70]]\n"
     ]
    }
   ],
   "source": [
    "print(np.vstack([x1,y1]))"
   ]
  },
  {
   "cell_type": "code",
   "execution_count": 67,
   "id": "588a9fff",
   "metadata": {},
   "outputs": [
    {
     "name": "stdout",
     "output_type": "stream",
     "text": [
      "[1 2 3 4 5]\n",
      "[array([10, 20]), array([30, 40]), array([50])]\n"
     ]
    }
   ],
   "source": [
    "ab = np.array([1,2,3,4,5])\n",
    "print(ab)\n",
    "print(np.array_split(a,3))"
   ]
  },
  {
   "cell_type": "code",
   "execution_count": 68,
   "id": "789fabdc",
   "metadata": {},
   "outputs": [],
   "source": [
    "# np.append(a,b) - Append items to an array\n",
    "# np.insert(a,1,5) - Inserts items in an array\n",
    "# np.delete(a,[1]) - Delete items from an array"
   ]
  },
  {
   "cell_type": "code",
   "execution_count": 74,
   "id": "cd37c9e5",
   "metadata": {},
   "outputs": [
    {
     "name": "stdout",
     "output_type": "stream",
     "text": [
      "[1 2 3]\n",
      "[9 8 7]\n",
      "[1 2 3 4 5]\n",
      "[ 0 10 20 30 40 50]\n"
     ]
    }
   ],
   "source": [
    "z = np.array([1,2,3])\n",
    "w = np.array([9,8,7])\n",
    "print(z)\n",
    "print(w)\n",
    "print(np.append(z,[4,5]))\n",
    "print(np.insert(a,0,0))"
   ]
  },
  {
   "cell_type": "code",
   "execution_count": 80,
   "id": "0732d1d3",
   "metadata": {},
   "outputs": [
    {
     "name": "stdout",
     "output_type": "stream",
     "text": [
      "[[ 1  2]\n",
      " [22 33]\n",
      " [99 98]]\n"
     ]
    }
   ],
   "source": [
    "z1 = np.array([[1,2],[99,98]])\n",
    "# print(z1)\n",
    "print(np.insert(z1,1,[22,33], axis = 0))"
   ]
  },
  {
   "cell_type": "code",
   "execution_count": 87,
   "id": "81869313",
   "metadata": {},
   "outputs": [
    {
     "name": "stdout",
     "output_type": "stream",
     "text": [
      "[[ 1  2]\n",
      " [99 98]]\n",
      "\n",
      "[[ 1]\n",
      " [99]]\n"
     ]
    }
   ],
   "source": [
    "print(z1)\n",
    "print()\n",
    "print(np.delete(z1,1,axis = 1))"
   ]
  },
  {
   "cell_type": "code",
   "execution_count": 102,
   "id": "e960ff4f",
   "metadata": {},
   "outputs": [
    {
     "name": "stdout",
     "output_type": "stream",
     "text": [
      "[5 4 3 2 1]\n",
      "[1 2 3 4 5]\n",
      "\n",
      "[1 2 3 4 5]\n",
      "(array([1, 3], dtype=int64),)\n",
      "2\n"
     ]
    }
   ],
   "source": [
    "ab = np.array([5,4,3,2,1])\n",
    "aa  = np.sort(ab)\n",
    "print(ab)\n",
    "print(aa)\n",
    "print()\n",
    "print(np.sort(ab))\n",
    "print(np.where(ab % 2 == 0 ))\n",
    "print(np.searchsorted(aa,3))"
   ]
  },
  {
   "cell_type": "code",
   "execution_count": 110,
   "id": "5234ab04",
   "metadata": {},
   "outputs": [
    {
     "name": "stdout",
     "output_type": "stream",
     "text": [
      "[5 4 3 2 1]\n",
      "15\n",
      "1\n",
      "5\n",
      "5\n",
      "3.0\n",
      "[ 5  9 12 14 15]\n",
      "[  5  20  60 120 120]\n"
     ]
    }
   ],
   "source": [
    "print(ab)\n",
    "print(np.sum(ab))\n",
    "print(np.min(ab))\n",
    "print(np.max(ab))\n",
    "print(np.size(ab)) # total number of elements in \"ab\" array\n",
    "print(np.mean(ab)) #Mean\n",
    "print(np.cumsum(ab)) #Cummulative sum \n",
    "print(np.cumprod(ab))  #Cummulative Product "
   ]
  },
  {
   "cell_type": "code",
   "execution_count": 121,
   "id": "b8db945c",
   "metadata": {},
   "outputs": [
    {
     "name": "stdout",
     "output_type": "stream",
     "text": [
      "[10 20 30] \n",
      " [90 80 70]\n",
      "\n",
      "[[  10   20   30]\n",
      " [ 900 1600 2100]]\n"
     ]
    }
   ],
   "source": [
    "Price = np.array([10,20,30])\n",
    "Quantity = np.array([90,80,70])\n",
    "print(Price ,\"\\n\", Quantity) #\"\\n\" used this to print output in Next row\n",
    "print()\n",
    "print(np.cumprod([Price , Quantity], axis  = 0))"
   ]
  },
  {
   "cell_type": "code",
   "execution_count": 125,
   "id": "8e5a1258",
   "metadata": {},
   "outputs": [],
   "source": [
    "import statistics as sts"
   ]
  },
  {
   "cell_type": "code",
   "execution_count": 133,
   "id": "037e9462",
   "metadata": {},
   "outputs": [
    {
     "name": "stdout",
     "output_type": "stream",
     "text": [
      "[10 15 20 30 35 40 50]\n",
      "\n",
      "28.571428571428573\n",
      "30.0\n",
      "10\n",
      "13.286482312670197\n",
      "176.53061224489798\n"
     ]
    }
   ],
   "source": [
    "marks = np.array([10,15,20,30,35,40,50])\n",
    "print(marks)\n",
    "print()\n",
    "print(np.mean(marks)) #sum of all the Values / Number of Values\n",
    "print(np.median(marks)) # Centeral value after sorting\n",
    "print(sts.mode(marks))\n",
    "print(np.std(marks))\n",
    "print(np.var(marks))"
   ]
  },
  {
   "cell_type": "code",
   "execution_count": null,
   "id": "d6aea597",
   "metadata": {},
   "outputs": [],
   "source": []
  }
 ],
 "metadata": {
  "kernelspec": {
   "display_name": "Python 3 (ipykernel)",
   "language": "python",
   "name": "python3"
  },
  "language_info": {
   "codemirror_mode": {
    "name": "ipython",
    "version": 3
   },
   "file_extension": ".py",
   "mimetype": "text/x-python",
   "name": "python",
   "nbconvert_exporter": "python",
   "pygments_lexer": "ipython3",
   "version": "3.11.9"
  }
 },
 "nbformat": 4,
 "nbformat_minor": 5
}
